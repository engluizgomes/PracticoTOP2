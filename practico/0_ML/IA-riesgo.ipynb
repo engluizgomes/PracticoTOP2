{
 "cells": [
  {
   "cell_type": "markdown",
   "id": "7902d6ae",
   "metadata": {
    "slideshow": {
     "slide_type": "subslide"
    }
   },
   "source": [
    "# El modelo diagnostica riesgo cardíaco \n",
    "# Si el paciente tiene o no-tiene riesgo cardíaco, a partir de los datos clínicos del paciente\n",
    "# Los datos clínicos son:  nivel de colesterol, presión arterial, nivel de azúcar en sangre, edad, sobrepeso y tabaquismo "
   ]
  },
  {
   "cell_type": "code",
   "execution_count": 35,
   "id": "5c0bf778",
   "metadata": {},
   "outputs": [],
   "source": [
    "from tensorflow.keras        import models #Crear/entrenar/evaluar el modelo\n",
    "from sklearn.model_selection import train_test_split #Para separar train de test\n",
    "import matplotlib.pyplot as plt #Para graficar\n",
    "#preproceso los datos\n",
    "from sklearn.model_selection import train_test_split\n",
    "from sklearn.preprocessing import normalize\n",
    "from sklearn.preprocessing import (\n",
    "    MaxAbsScaler,\n",
    "    MinMaxScaler,\n",
    "    Normalizer,\n",
    "    PowerTransformer,\n",
    "    QuantileTransformer,\n",
    "    RobustScaler,\n",
    "    StandardScaler,\n",
    ")\n",
    "from sklearn.linear_model import LogisticRegression\n",
    "from sklearn.metrics import roc_auc_score, roc_curve, auc\n",
    "import numpy as np\n",
    "import pandas as pd\n",
    "import seaborn as sns\n",
    "import matplotlib.pyplot as plt\n",
    "import tensorflow as tf\n",
    "from tensorflow.keras.layers import Dense, Dropout #Capas densas para la red\n",
    "from tensorflow.keras.optimizers import Adam #Optimizador a utilizar\n"
   ]
  },
  {
   "cell_type": "markdown",
   "id": "844f5bd4",
   "metadata": {},
   "source": [
    "# Leo el set de datos y devuelvo las primeras n filas de un DataFrame (funcion head)"
   ]
  },
  {
   "cell_type": "code",
   "execution_count": 36,
   "id": "a1577b0c",
   "metadata": {},
   "outputs": [],
   "source": [
    "df = pd.read_csv('datos_de_pacientes_5000.csv')"
   ]
  },
  {
   "cell_type": "code",
   "execution_count": 37,
   "id": "e782422f",
   "metadata": {},
   "outputs": [
    {
     "data": {
      "text/html": [
       "<div>\n",
       "<style scoped>\n",
       "    .dataframe tbody tr th:only-of-type {\n",
       "        vertical-align: middle;\n",
       "    }\n",
       "\n",
       "    .dataframe tbody tr th {\n",
       "        vertical-align: top;\n",
       "    }\n",
       "\n",
       "    .dataframe thead th {\n",
       "        text-align: right;\n",
       "    }\n",
       "</style>\n",
       "<table border=\"1\" class=\"dataframe\">\n",
       "  <thead>\n",
       "    <tr style=\"text-align: right;\">\n",
       "      <th></th>\n",
       "      <th>Unnamed: 0</th>\n",
       "      <th>colesterol</th>\n",
       "      <th>presion</th>\n",
       "      <th>glucosa</th>\n",
       "      <th>edad</th>\n",
       "      <th>sobrepeso</th>\n",
       "      <th>tabaquismo</th>\n",
       "      <th>riesgo_cardiaco</th>\n",
       "    </tr>\n",
       "  </thead>\n",
       "  <tbody>\n",
       "    <tr>\n",
       "      <th>0</th>\n",
       "      <td>0</td>\n",
       "      <td>1.0</td>\n",
       "      <td>0.9</td>\n",
       "      <td>1.0</td>\n",
       "      <td>5</td>\n",
       "      <td>0</td>\n",
       "      <td>1</td>\n",
       "      <td>0</td>\n",
       "    </tr>\n",
       "    <tr>\n",
       "      <th>1</th>\n",
       "      <td>1</td>\n",
       "      <td>2.4</td>\n",
       "      <td>1.4</td>\n",
       "      <td>1.8</td>\n",
       "      <td>72</td>\n",
       "      <td>0</td>\n",
       "      <td>0</td>\n",
       "      <td>1</td>\n",
       "    </tr>\n",
       "    <tr>\n",
       "      <th>2</th>\n",
       "      <td>2</td>\n",
       "      <td>2.2</td>\n",
       "      <td>1.1</td>\n",
       "      <td>0.6</td>\n",
       "      <td>73</td>\n",
       "      <td>0</td>\n",
       "      <td>1</td>\n",
       "      <td>0</td>\n",
       "    </tr>\n",
       "    <tr>\n",
       "      <th>3</th>\n",
       "      <td>3</td>\n",
       "      <td>2.2</td>\n",
       "      <td>1.3</td>\n",
       "      <td>1.2</td>\n",
       "      <td>4</td>\n",
       "      <td>0</td>\n",
       "      <td>1</td>\n",
       "      <td>0</td>\n",
       "    </tr>\n",
       "    <tr>\n",
       "      <th>4</th>\n",
       "      <td>4</td>\n",
       "      <td>1.8</td>\n",
       "      <td>0.9</td>\n",
       "      <td>1.1</td>\n",
       "      <td>42</td>\n",
       "      <td>0</td>\n",
       "      <td>1</td>\n",
       "      <td>0</td>\n",
       "    </tr>\n",
       "  </tbody>\n",
       "</table>\n",
       "</div>"
      ],
      "text/plain": [
       "   Unnamed: 0  colesterol  presion  glucosa  edad  sobrepeso  tabaquismo  \\\n",
       "0           0         1.0      0.9      1.0     5          0           1   \n",
       "1           1         2.4      1.4      1.8    72          0           0   \n",
       "2           2         2.2      1.1      0.6    73          0           1   \n",
       "3           3         2.2      1.3      1.2     4          0           1   \n",
       "4           4         1.8      0.9      1.1    42          0           1   \n",
       "\n",
       "   riesgo_cardiaco  \n",
       "0                0  \n",
       "1                1  \n",
       "2                0  \n",
       "3                0  \n",
       "4                0  "
      ]
     },
     "execution_count": 37,
     "metadata": {},
     "output_type": "execute_result"
    }
   ],
   "source": [
    "df.head()"
   ]
  },
  {
   "cell_type": "markdown",
   "id": "dc42f7e7",
   "metadata": {},
   "source": [
    "# Distribución de frecuencia: \n",
    "# utilizando subgráficas(subplot)\n",
    "# histogramas(hist)\n",
    "# y con sus correspondientes etiquetas (legend)"
   ]
  },
  {
   "cell_type": "code",
   "execution_count": 38,
   "id": "6f2663a8",
   "metadata": {},
   "outputs": [
    {
     "data": {
      "image/png": "[encoded data removed]",
      "text/plain": [
       "<Figure size 640x480 with 4 Axes>"
      ]
     },
     "metadata": {},
     "output_type": "display_data"
    }
   ],
   "source": [
    "colesterol = df['colesterol'].value_counts()\n",
    "presion = df['presion'].value_counts()\n",
    "glucosa = df['glucosa'].value_counts()\n",
    "edad = df['edad'].value_counts()\n",
    "\n",
    "plt.subplot(2, 2, 1)\n",
    "plt.hist([colesterol], bins=15, label=['colesterol'])\n",
    "plt.legend(loc='upper right')\n",
    "\n",
    "plt.subplot(2, 2, 2)\n",
    "plt.hist([presion], bins=15, label=['presion'])\n",
    "plt.legend(loc='upper right')\n",
    "\n",
    "plt.subplot(2, 2, 3)\n",
    "plt.hist([glucosa], bins=15, label=['glucosa'])\n",
    "plt.legend(loc='upper right')\n",
    "\n",
    "plt.subplot(2, 2, 4)\n",
    "plt.hist([edad], bins=15, label=['edad'])\n",
    "plt.legend(loc='upper right')\n",
    "\n",
    "plt.show()"
   ]
  },
  {
   "cell_type": "code",
   "execution_count": 39,
   "id": "2ba61410",
   "metadata": {},
   "outputs": [
    {
     "data": {
      "text/plain": [
       "<Axes: ylabel='edad'>"
      ]
     },
     "execution_count": 39,
     "metadata": {},
     "output_type": "execute_result"
    },
    {
     "data": {
      "image/png": "[encoded data removed]",
      "text/plain": [
       "<Figure size 640x480 with 1 Axes>"
      ]
     },
     "metadata": {},
     "output_type": "display_data"
    }
   ],
   "source": [
    "sns.boxplot(df['edad'])"
   ]
  },
  {
   "cell_type": "code",
   "execution_count": 40,
   "id": "35178a3a",
   "metadata": {},
   "outputs": [
    {
     "data": {
      "text/plain": [
       "<Axes: ylabel='colesterol'>"
      ]
     },
     "execution_count": 40,
     "metadata": {},
     "output_type": "execute_result"
    },
    {
     "data": {
      "image/png": "[encoded data removed]",
      "text/plain": [
       "<Figure size 640x480 with 1 Axes>"
      ]
     },
     "metadata": {},
     "output_type": "display_data"
    }
   ],
   "source": [
    "sns.boxplot(df['colesterol'])"
   ]
  },
  {
   "cell_type": "code",
   "execution_count": 41,
   "id": "16a41d7d",
   "metadata": {},
   "outputs": [
    {
     "data": {
      "text/plain": [
       "<Axes: ylabel='glucosa'>"
      ]
     },
     "execution_count": 41,
     "metadata": {},
     "output_type": "execute_result"
    },
    {
     "data": {
      "image/png": "[encoded data removed]",
      "text/plain": [
       "<Figure size 640x480 with 1 Axes>"
      ]
     },
     "metadata": {},
     "output_type": "display_data"
    }
   ],
   "source": [
    "sns.boxplot(df['glucosa'])"
   ]
  },
  {
   "cell_type": "code",
   "execution_count": 42,
   "id": "aa55b022",
   "metadata": {},
   "outputs": [
    {
     "data": {
      "text/plain": [
       "<Axes: ylabel='presion'>"
      ]
     },
     "execution_count": 42,
     "metadata": {},
     "output_type": "execute_result"
    },
    {
     "data": {
      "image/png": "[encoded data removed]",
      "text/plain": [
       "<Figure size 640x480 with 1 Axes>"
      ]
     },
     "metadata": {},
     "output_type": "display_data"
    }
   ],
   "source": [
    "sns.boxplot(df['presion'])"
   ]
  },
  {
   "cell_type": "markdown",
   "id": "cd7a2118",
   "metadata": {},
   "source": [
    "## StandardScaler\n",
    "\n",
    "StandardScaler removes the mean and scales the data to unit variance. The scaling shrinks the range of the feature values as shown in the left figure below. However, the outliers have an influence when computing the empirical mean and standard deviation. Note in particular that because the outliers on each feature have different magnitudes, the spread of the transformed data on each feature is very different: most of the data lie in the [-2, 4] range for the transformed median income feature while the same data is squeezed in the smaller [-0.2, 0.2] range for the transformed average house occupancy.\n",
    "\n",
    "StandardScaler therefore cannot guarantee balanced feature scales in the presence of outliers."
   ]
  },
  {
   "cell_type": "code",
   "execution_count": 43,
   "id": "a1b40d18",
   "metadata": {},
   "outputs": [],
   "source": [
    "###Scaling numerical variables\n",
    "scaler = StandardScaler()\n",
    "\n",
    "# Separate the data from the target labels\n",
    "X = df.drop(['riesgo_cardiaco'], axis=1)\n",
    "y = np.array(df['riesgo_cardiaco'])\n",
    "\n",
    "# Split the data into training and testing sets\n",
    "X_train, X_test, y_train, y_test = train_test_split(X, y, test_size=0.2)\n",
    "\n",
    "#For training set\n",
    "scaled_X_train = scaler.fit_transform(X_train)\n",
    "scaled_X_train = pd.DataFrame(scaled_X_train, columns=X_train.columns)\n",
    "\n",
    "#For testing set\n",
    "scaled_X_test = scaler.fit_transform(X_test)\n",
    "scaled_X_test = pd.DataFrame(scaled_X_test, columns=X_test.columns)\n"
   ]
  },
  {
   "cell_type": "code",
   "execution_count": 44,
   "id": "2ae35449",
   "metadata": {},
   "outputs": [
    {
     "data": {
      "text/html": [
       "<div>\n",
       "<style scoped>\n",
       "    .dataframe tbody tr th:only-of-type {\n",
       "        vertical-align: middle;\n",
       "    }\n",
       "\n",
       "    .dataframe tbody tr th {\n",
       "        vertical-align: top;\n",
       "    }\n",
       "\n",
       "    .dataframe thead th {\n",
       "        text-align: right;\n",
       "    }\n",
       "</style>\n",
       "<table border=\"1\" class=\"dataframe\">\n",
       "  <thead>\n",
       "    <tr style=\"text-align: right;\">\n",
       "      <th></th>\n",
       "      <th>Unnamed: 0</th>\n",
       "      <th>colesterol</th>\n",
       "      <th>presion</th>\n",
       "      <th>glucosa</th>\n",
       "      <th>edad</th>\n",
       "      <th>sobrepeso</th>\n",
       "      <th>tabaquismo</th>\n",
       "    </tr>\n",
       "  </thead>\n",
       "  <tbody>\n",
       "    <tr>\n",
       "      <th>0</th>\n",
       "      <td>-1.421451</td>\n",
       "      <td>0.613727</td>\n",
       "      <td>-0.442198</td>\n",
       "      <td>0.739099</td>\n",
       "      <td>-0.828158</td>\n",
       "      <td>1.005515</td>\n",
       "      <td>0.994515</td>\n",
       "    </tr>\n",
       "    <tr>\n",
       "      <th>1</th>\n",
       "      <td>-0.853909</td>\n",
       "      <td>-0.432324</td>\n",
       "      <td>0.431999</td>\n",
       "      <td>-0.654004</td>\n",
       "      <td>-0.515829</td>\n",
       "      <td>-0.994515</td>\n",
       "      <td>-1.005515</td>\n",
       "    </tr>\n",
       "    <tr>\n",
       "      <th>2</th>\n",
       "      <td>-0.392085</td>\n",
       "      <td>1.485435</td>\n",
       "      <td>-0.150799</td>\n",
       "      <td>1.203467</td>\n",
       "      <td>0.525268</td>\n",
       "      <td>-0.994515</td>\n",
       "      <td>-1.005515</td>\n",
       "    </tr>\n",
       "    <tr>\n",
       "      <th>3</th>\n",
       "      <td>0.688054</td>\n",
       "      <td>-0.432324</td>\n",
       "      <td>-0.150799</td>\n",
       "      <td>1.203467</td>\n",
       "      <td>-0.238203</td>\n",
       "      <td>1.005515</td>\n",
       "      <td>-1.005515</td>\n",
       "    </tr>\n",
       "    <tr>\n",
       "      <th>4</th>\n",
       "      <td>-0.560400</td>\n",
       "      <td>-0.781008</td>\n",
       "      <td>-1.024997</td>\n",
       "      <td>1.435650</td>\n",
       "      <td>-0.168796</td>\n",
       "      <td>1.005515</td>\n",
       "      <td>-1.005515</td>\n",
       "    </tr>\n",
       "  </tbody>\n",
       "</table>\n",
       "</div>"
      ],
      "text/plain": [
       "   Unnamed: 0  colesterol   presion   glucosa      edad  sobrepeso  tabaquismo\n",
       "0   -1.421451    0.613727 -0.442198  0.739099 -0.828158   1.005515    0.994515\n",
       "1   -0.853909   -0.432324  0.431999 -0.654004 -0.515829  -0.994515   -1.005515\n",
       "2   -0.392085    1.485435 -0.150799  1.203467  0.525268  -0.994515   -1.005515\n",
       "3    0.688054   -0.432324 -0.150799  1.203467 -0.238203   1.005515   -1.005515\n",
       "4   -0.560400   -0.781008 -1.024997  1.435650 -0.168796   1.005515   -1.005515"
      ]
     },
     "execution_count": 44,
     "metadata": {},
     "output_type": "execute_result"
    }
   ],
   "source": [
    "scaled_X_train.head()"
   ]
  },
  {
   "cell_type": "code",
   "execution_count": 45,
   "id": "4179ce26",
   "metadata": {},
   "outputs": [
    {
     "data": {
      "text/html": [
       "<div>\n",
       "<style scoped>\n",
       "    .dataframe tbody tr th:only-of-type {\n",
       "        vertical-align: middle;\n",
       "    }\n",
       "\n",
       "    .dataframe tbody tr th {\n",
       "        vertical-align: top;\n",
       "    }\n",
       "\n",
       "    .dataframe thead th {\n",
       "        text-align: right;\n",
       "    }\n",
       "</style>\n",
       "<table border=\"1\" class=\"dataframe\">\n",
       "  <thead>\n",
       "    <tr style=\"text-align: right;\">\n",
       "      <th></th>\n",
       "      <th>Unnamed: 0</th>\n",
       "      <th>colesterol</th>\n",
       "      <th>presion</th>\n",
       "      <th>glucosa</th>\n",
       "      <th>edad</th>\n",
       "      <th>sobrepeso</th>\n",
       "      <th>tabaquismo</th>\n",
       "    </tr>\n",
       "  </thead>\n",
       "  <tbody>\n",
       "    <tr>\n",
       "      <th>0</th>\n",
       "      <td>-1.629921</td>\n",
       "      <td>1.358534</td>\n",
       "      <td>-0.116621</td>\n",
       "      <td>-0.038299</td>\n",
       "      <td>-0.759020</td>\n",
       "      <td>-0.978237</td>\n",
       "      <td>-1.018165</td>\n",
       "    </tr>\n",
       "    <tr>\n",
       "      <th>1</th>\n",
       "      <td>-1.380169</td>\n",
       "      <td>0.121092</td>\n",
       "      <td>1.615373</td>\n",
       "      <td>-1.414319</td>\n",
       "      <td>-0.404653</td>\n",
       "      <td>-0.978237</td>\n",
       "      <td>0.982159</td>\n",
       "    </tr>\n",
       "    <tr>\n",
       "      <th>2</th>\n",
       "      <td>-0.685504</td>\n",
       "      <td>0.297870</td>\n",
       "      <td>-0.405287</td>\n",
       "      <td>1.108384</td>\n",
       "      <td>1.260876</td>\n",
       "      <td>1.022247</td>\n",
       "      <td>-1.018165</td>\n",
       "    </tr>\n",
       "    <tr>\n",
       "      <th>3</th>\n",
       "      <td>-1.241645</td>\n",
       "      <td>0.121092</td>\n",
       "      <td>1.038042</td>\n",
       "      <td>-0.038299</td>\n",
       "      <td>-1.467756</td>\n",
       "      <td>1.022247</td>\n",
       "      <td>0.982159</td>\n",
       "    </tr>\n",
       "    <tr>\n",
       "      <th>4</th>\n",
       "      <td>0.901718</td>\n",
       "      <td>-0.055685</td>\n",
       "      <td>-1.271284</td>\n",
       "      <td>-0.955646</td>\n",
       "      <td>-0.404653</td>\n",
       "      <td>-0.978237</td>\n",
       "      <td>0.982159</td>\n",
       "    </tr>\n",
       "  </tbody>\n",
       "</table>\n",
       "</div>"
      ],
      "text/plain": [
       "   Unnamed: 0  colesterol   presion   glucosa      edad  sobrepeso  tabaquismo\n",
       "0   -1.629921    1.358534 -0.116621 -0.038299 -0.759020  -0.978237   -1.018165\n",
       "1   -1.380169    0.121092  1.615373 -1.414319 -0.404653  -0.978237    0.982159\n",
       "2   -0.685504    0.297870 -0.405287  1.108384  1.260876   1.022247   -1.018165\n",
       "3   -1.241645    0.121092  1.038042 -0.038299 -1.467756   1.022247    0.982159\n",
       "4    0.901718   -0.055685 -1.271284 -0.955646 -0.404653  -0.978237    0.982159"
      ]
     },
     "execution_count": 45,
     "metadata": {},
     "output_type": "execute_result"
    }
   ],
   "source": [
    "scaled_X_test.head()"
   ]
  },
  {
   "cell_type": "markdown",
   "id": "a29cc921",
   "metadata": {},
   "source": [
    "## Logistic Regression"
   ]
  },
  {
   "cell_type": "code",
   "execution_count": 46,
   "id": "80393037",
   "metadata": {},
   "outputs": [
    {
     "data": {
      "image/png": "[encoded data removed]",
      "text/plain": [
       "<Figure size 640x480 with 1 Axes>"
      ]
     },
     "metadata": {},
     "output_type": "display_data"
    }
   ],
   "source": [
    "### Complete in this cell: train a logistic regression, assign to `log_reg` variable\n",
    "log_reg = LogisticRegression(max_iter = 10000, C = 0.01).fit(scaled_X_train, y_train)\n",
    "lr_predictions = log_reg.predict(scaled_X_test)\n",
    "lr_predict_proba = log_reg.predict_proba(scaled_X_test)\n",
    "\n",
    "# Calculate roc_auc_score\n",
    "lr_roc_auc = roc_auc_score(y_test, lr_predict_proba[:, 1])\n",
    "\n",
    "# Manually plotting the ROC curve\n",
    "fpr, tpr, _ = roc_curve(y_test, lr_predict_proba[:, 1])\n",
    "roc_auc = auc(fpr, tpr)\n",
    "\n",
    "plt.figure()\n",
    "plt.plot(fpr, tpr, color='darkorange', lw=2, label='ROC curve (area = %0.2f)' % roc_auc)\n",
    "plt.plot([0, 1], [0, 1], color='navy', lw=2, linestyle='--')\n",
    "plt.xlim([0.0, 1.0])\n",
    "plt.ylim([0.0, 1.05])\n",
    "plt.xlabel('False Positive Rate')\n",
    "plt.ylabel('True Positive Rate')\n",
    "plt.title('Comparison by ROC Curve')\n",
    "plt.legend(loc=\"lower right\")\n",
    "plt.show()"
   ]
  },
  {
   "cell_type": "code",
   "execution_count": 47,
   "id": "d71b1400",
   "metadata": {},
   "outputs": [
    {
     "name": "stdout",
     "output_type": "stream",
     "text": [
      "Predictions: [0 0 1 1 0]\n",
      "Probabilities: [[0.8580285  0.1419715 ]\n",
      " [0.64582043 0.35417957]\n",
      " [0.12409079 0.87590921]\n",
      " [0.30596251 0.69403749]\n",
      " [0.82217725 0.17782275]]\n"
     ]
    }
   ],
   "source": [
    "# Example: print the first 5 predictions\n",
    "print(\"Predictions:\", lr_predictions[:5])\n",
    "print(\"Probabilities:\", lr_predict_proba[:5])"
   ]
  },
  {
   "cell_type": "code",
   "execution_count": 48,
   "id": "c18c7897",
   "metadata": {},
   "outputs": [],
   "source": [
    "# Normaliza los datos\n",
    "X_train_norm = normalize(X_train, norm='l2')\n",
    "X_test_norm = normalize(X_test, norm='l2')\n"
   ]
  },
  {
   "cell_type": "code",
   "execution_count": 49,
   "id": "97735c42",
   "metadata": {},
   "outputs": [
    {
     "name": "stdout",
     "output_type": "stream",
     "text": [
      "Epoch 1/150\n",
      "125/125 [==============================] - 1s 861us/step - loss: 6.5167 - accuracy: 0.5120\n",
      "Epoch 2/150\n",
      "125/125 [==============================] - 0s 922us/step - loss: 2.7959 - accuracy: 0.5310\n",
      "Epoch 3/150\n",
      "125/125 [==============================] - 0s 854us/step - loss: 3.0697 - accuracy: 0.5490\n",
      "Epoch 4/150\n",
      "125/125 [==============================] - 0s 915us/step - loss: 2.2836 - accuracy: 0.5380\n",
      "Epoch 5/150\n",
      "125/125 [==============================] - 0s 913us/step - loss: 2.5431 - accuracy: 0.5335\n",
      "Epoch 6/150\n",
      "125/125 [==============================] - 0s 895us/step - loss: 2.4813 - accuracy: 0.5297\n",
      "Epoch 7/150\n",
      "125/125 [==============================] - 0s 882us/step - loss: 1.4934 - accuracy: 0.5583\n",
      "Epoch 8/150\n",
      "125/125 [==============================] - 0s 868us/step - loss: 1.9147 - accuracy: 0.5483\n",
      "Epoch 9/150\n",
      "125/125 [==============================] - 0s 903us/step - loss: 1.5605 - accuracy: 0.5587\n",
      "Epoch 10/150\n",
      "125/125 [==============================] - 0s 2ms/step - loss: 2.1529 - accuracy: 0.5490\n",
      "Epoch 11/150\n",
      "125/125 [==============================] - 0s 917us/step - loss: 1.7695 - accuracy: 0.5485\n",
      "Epoch 12/150\n",
      "125/125 [==============================] - 0s 897us/step - loss: 3.0497 - accuracy: 0.5240\n",
      "Epoch 13/150\n",
      "125/125 [==============================] - 0s 921us/step - loss: 1.7768 - accuracy: 0.5667\n",
      "Epoch 14/150\n",
      "125/125 [==============================] - 0s 918us/step - loss: 1.6459 - accuracy: 0.5627\n",
      "Epoch 15/150\n",
      "125/125 [==============================] - 0s 906us/step - loss: 1.4851 - accuracy: 0.5692\n",
      "Epoch 16/150\n",
      "125/125 [==============================] - 0s 932us/step - loss: 1.2860 - accuracy: 0.5847\n",
      "Epoch 17/150\n",
      "125/125 [==============================] - 0s 922us/step - loss: 1.4863 - accuracy: 0.5535\n",
      "Epoch 18/150\n",
      "125/125 [==============================] - 0s 932us/step - loss: 1.3553 - accuracy: 0.5800\n",
      "Epoch 19/150\n",
      "125/125 [==============================] - 0s 901us/step - loss: 1.6674 - accuracy: 0.5642\n",
      "Epoch 20/150\n",
      "125/125 [==============================] - 0s 905us/step - loss: 2.4427 - accuracy: 0.5412\n",
      "Epoch 21/150\n",
      "125/125 [==============================] - 0s 928us/step - loss: 1.2621 - accuracy: 0.5810\n",
      "Epoch 22/150\n",
      "125/125 [==============================] - 0s 908us/step - loss: 1.2321 - accuracy: 0.5840\n",
      "Epoch 23/150\n",
      "125/125 [==============================] - 0s 920us/step - loss: 0.8634 - accuracy: 0.6040\n",
      "Epoch 24/150\n",
      "125/125 [==============================] - 0s 903us/step - loss: 1.2072 - accuracy: 0.5803\n",
      "Epoch 25/150\n",
      "125/125 [==============================] - 0s 931us/step - loss: 1.1933 - accuracy: 0.5995\n",
      "Epoch 26/150\n",
      "125/125 [==============================] - 0s 910us/step - loss: 0.9927 - accuracy: 0.5993\n",
      "Epoch 27/150\n",
      "125/125 [==============================] - 0s 920us/step - loss: 1.2401 - accuracy: 0.5957\n",
      "Epoch 28/150\n",
      "125/125 [==============================] - 0s 896us/step - loss: 1.4765 - accuracy: 0.5677\n",
      "Epoch 29/150\n",
      "125/125 [==============================] - 0s 929us/step - loss: 1.0872 - accuracy: 0.5940\n",
      "Epoch 30/150\n",
      "125/125 [==============================] - 0s 932us/step - loss: 2.2346 - accuracy: 0.5690\n",
      "Epoch 31/150\n",
      "125/125 [==============================] - 0s 881us/step - loss: 1.3248 - accuracy: 0.5947\n",
      "Epoch 32/150\n",
      "125/125 [==============================] - 0s 874us/step - loss: 1.5419 - accuracy: 0.5688\n",
      "Epoch 33/150\n",
      "125/125 [==============================] - 0s 987us/step - loss: 1.0971 - accuracy: 0.6155\n",
      "Epoch 34/150\n",
      "125/125 [==============================] - 0s 928us/step - loss: 0.8452 - accuracy: 0.6202\n",
      "Epoch 35/150\n",
      "125/125 [==============================] - 0s 911us/step - loss: 1.1129 - accuracy: 0.5950\n",
      "Epoch 36/150\n",
      "125/125 [==============================] - 0s 894us/step - loss: 0.8699 - accuracy: 0.6233\n",
      "Epoch 37/150\n",
      "125/125 [==============================] - 0s 915us/step - loss: 0.8728 - accuracy: 0.6258\n",
      "Epoch 38/150\n",
      "125/125 [==============================] - 0s 903us/step - loss: 1.0795 - accuracy: 0.6058\n",
      "Epoch 39/150\n",
      "125/125 [==============================] - 0s 914us/step - loss: 0.9664 - accuracy: 0.6168\n",
      "Epoch 40/150\n",
      "125/125 [==============================] - 0s 907us/step - loss: 0.9199 - accuracy: 0.6100\n",
      "Epoch 41/150\n",
      "125/125 [==============================] - 0s 913us/step - loss: 0.9330 - accuracy: 0.6077\n",
      "Epoch 42/150\n",
      "125/125 [==============================] - 0s 1ms/step - loss: 1.1666 - accuracy: 0.5995\n",
      "Epoch 43/150\n",
      "125/125 [==============================] - 0s 864us/step - loss: 1.4120 - accuracy: 0.5925\n",
      "Epoch 44/150\n",
      "125/125 [==============================] - 0s 878us/step - loss: 0.9526 - accuracy: 0.6270\n",
      "Epoch 45/150\n",
      "125/125 [==============================] - 0s 955us/step - loss: 0.9815 - accuracy: 0.6150\n",
      "Epoch 46/150\n",
      "125/125 [==============================] - 0s 892us/step - loss: 0.8401 - accuracy: 0.6288\n",
      "Epoch 47/150\n",
      "125/125 [==============================] - 0s 921us/step - loss: 0.7649 - accuracy: 0.6490\n",
      "Epoch 48/150\n",
      "125/125 [==============================] - 0s 893us/step - loss: 0.8489 - accuracy: 0.6360\n",
      "Epoch 49/150\n",
      "125/125 [==============================] - 0s 898us/step - loss: 0.9541 - accuracy: 0.6292\n",
      "Epoch 50/150\n",
      "125/125 [==============================] - 0s 917us/step - loss: 0.8183 - accuracy: 0.6415\n",
      "Epoch 51/150\n",
      "125/125 [==============================] - 0s 919us/step - loss: 0.7916 - accuracy: 0.6528\n",
      "Epoch 52/150\n",
      "125/125 [==============================] - 0s 897us/step - loss: 0.7093 - accuracy: 0.6715\n",
      "Epoch 53/150\n",
      "125/125 [==============================] - 0s 909us/step - loss: 0.9295 - accuracy: 0.6370\n",
      "Epoch 54/150\n",
      "125/125 [==============================] - 0s 920us/step - loss: 1.5616 - accuracy: 0.5970\n",
      "Epoch 55/150\n",
      "125/125 [==============================] - 0s 1ms/step - loss: 1.0393 - accuracy: 0.6323\n",
      "Epoch 56/150\n",
      "125/125 [==============================] - 0s 910us/step - loss: 0.9494 - accuracy: 0.6285\n",
      "Epoch 57/150\n",
      "125/125 [==============================] - 0s 931us/step - loss: 1.0271 - accuracy: 0.6275\n",
      "Epoch 58/150\n",
      "125/125 [==============================] - 0s 915us/step - loss: 0.7320 - accuracy: 0.6730\n",
      "Epoch 59/150\n",
      "125/125 [==============================] - 0s 913us/step - loss: 1.1055 - accuracy: 0.6355\n",
      "Epoch 60/150\n",
      "125/125 [==============================] - 0s 897us/step - loss: 0.9899 - accuracy: 0.6532\n",
      "Epoch 61/150\n",
      "125/125 [==============================] - 0s 912us/step - loss: 0.7955 - accuracy: 0.6607\n",
      "Epoch 62/150\n",
      "125/125 [==============================] - 0s 935us/step - loss: 0.8635 - accuracy: 0.6570\n",
      "Epoch 63/150\n",
      "125/125 [==============================] - 0s 919us/step - loss: 0.6618 - accuracy: 0.6963\n",
      "Epoch 64/150\n",
      "125/125 [==============================] - 0s 899us/step - loss: 0.6266 - accuracy: 0.6898\n",
      "Epoch 65/150\n",
      "125/125 [==============================] - 0s 939us/step - loss: 0.7502 - accuracy: 0.6710\n",
      "Epoch 66/150\n",
      "125/125 [==============================] - 0s 891us/step - loss: 1.0333 - accuracy: 0.6417\n",
      "Epoch 67/150\n",
      "125/125 [==============================] - 0s 911us/step - loss: 0.8011 - accuracy: 0.6678\n",
      "Epoch 68/150\n",
      "125/125 [==============================] - 0s 901us/step - loss: 1.3242 - accuracy: 0.6292\n",
      "Epoch 69/150\n",
      "125/125 [==============================] - 0s 907us/step - loss: 0.6949 - accuracy: 0.6970\n",
      "Epoch 70/150\n",
      "125/125 [==============================] - 0s 892us/step - loss: 0.6571 - accuracy: 0.6935\n",
      "Epoch 71/150\n",
      "125/125 [==============================] - 0s 881us/step - loss: 0.6536 - accuracy: 0.6925\n",
      "Epoch 72/150\n",
      "125/125 [==============================] - 0s 909us/step - loss: 0.7477 - accuracy: 0.6892\n",
      "Epoch 73/150\n",
      "125/125 [==============================] - 0s 1ms/step - loss: 0.5995 - accuracy: 0.7182\n",
      "Epoch 74/150\n",
      "125/125 [==============================] - 0s 985us/step - loss: 0.7466 - accuracy: 0.6718\n",
      "Epoch 75/150\n",
      "125/125 [==============================] - 0s 983us/step - loss: 0.6506 - accuracy: 0.6990\n",
      "Epoch 76/150\n",
      "125/125 [==============================] - 0s 934us/step - loss: 0.7656 - accuracy: 0.6862\n",
      "Epoch 77/150\n",
      "125/125 [==============================] - 0s 954us/step - loss: 0.9502 - accuracy: 0.6547\n",
      "Epoch 78/150\n",
      "125/125 [==============================] - 0s 1ms/step - loss: 0.8867 - accuracy: 0.6662\n",
      "Epoch 79/150\n",
      "125/125 [==============================] - 0s 905us/step - loss: 0.6575 - accuracy: 0.7035\n",
      "Epoch 80/150\n",
      "125/125 [==============================] - 0s 899us/step - loss: 0.6241 - accuracy: 0.7120\n",
      "Epoch 81/150\n",
      "125/125 [==============================] - 0s 921us/step - loss: 0.6031 - accuracy: 0.7040\n",
      "Epoch 82/150\n",
      "125/125 [==============================] - 0s 929us/step - loss: 0.7394 - accuracy: 0.6858\n",
      "Epoch 83/150\n",
      "125/125 [==============================] - 0s 926us/step - loss: 0.7532 - accuracy: 0.6935\n",
      "Epoch 84/150\n",
      "125/125 [==============================] - 0s 897us/step - loss: 0.7623 - accuracy: 0.6777\n",
      "Epoch 85/150\n",
      "125/125 [==============================] - 0s 897us/step - loss: 1.0555 - accuracy: 0.6438\n",
      "Epoch 86/150\n",
      "125/125 [==============================] - 0s 923us/step - loss: 0.8008 - accuracy: 0.6925\n",
      "Epoch 87/150\n",
      "125/125 [==============================] - 0s 920us/step - loss: 0.7577 - accuracy: 0.6833\n",
      "Epoch 88/150\n",
      "125/125 [==============================] - 0s 961us/step - loss: 0.6186 - accuracy: 0.7155\n",
      "Epoch 89/150\n",
      "125/125 [==============================] - 0s 1ms/step - loss: 0.6729 - accuracy: 0.7013\n",
      "Epoch 90/150\n",
      "125/125 [==============================] - 0s 1ms/step - loss: 0.5646 - accuracy: 0.7220\n",
      "Epoch 91/150\n",
      "125/125 [==============================] - 0s 1ms/step - loss: 0.7160 - accuracy: 0.6952\n",
      "Epoch 92/150\n",
      "125/125 [==============================] - 0s 896us/step - loss: 0.7718 - accuracy: 0.6845\n",
      "Epoch 93/150\n",
      "125/125 [==============================] - 0s 881us/step - loss: 0.6308 - accuracy: 0.7065\n",
      "Epoch 94/150\n",
      "125/125 [==============================] - 0s 918us/step - loss: 0.6895 - accuracy: 0.7020\n",
      "Epoch 95/150\n",
      "125/125 [==============================] - 0s 917us/step - loss: 0.6137 - accuracy: 0.7130\n",
      "Epoch 96/150\n",
      "125/125 [==============================] - 0s 914us/step - loss: 0.8603 - accuracy: 0.6745\n",
      "Epoch 97/150\n",
      "125/125 [==============================] - 0s 892us/step - loss: 0.5745 - accuracy: 0.7272\n",
      "Epoch 98/150\n",
      "125/125 [==============================] - 0s 941us/step - loss: 0.6845 - accuracy: 0.6927\n",
      "Epoch 99/150\n",
      "125/125 [==============================] - 0s 917us/step - loss: 0.6862 - accuracy: 0.7045\n",
      "Epoch 100/150\n",
      "125/125 [==============================] - 0s 904us/step - loss: 0.7684 - accuracy: 0.6802\n",
      "Epoch 101/150\n",
      "125/125 [==============================] - 0s 913us/step - loss: 0.6384 - accuracy: 0.7193\n",
      "Epoch 102/150\n",
      "125/125 [==============================] - 0s 915us/step - loss: 0.7362 - accuracy: 0.7023\n",
      "Epoch 103/150\n",
      "125/125 [==============================] - 0s 925us/step - loss: 0.5873 - accuracy: 0.7250\n",
      "Epoch 104/150\n",
      "125/125 [==============================] - 0s 911us/step - loss: 0.6684 - accuracy: 0.6985\n",
      "Epoch 105/150\n",
      "125/125 [==============================] - 0s 922us/step - loss: 0.6065 - accuracy: 0.7230\n",
      "Epoch 106/150\n",
      "125/125 [==============================] - 0s 913us/step - loss: 0.7176 - accuracy: 0.7000\n",
      "Epoch 107/150\n",
      "125/125 [==============================] - 0s 945us/step - loss: 0.8353 - accuracy: 0.6785\n",
      "Epoch 108/150\n",
      "125/125 [==============================] - 0s 884us/step - loss: 0.7400 - accuracy: 0.6963\n",
      "Epoch 109/150\n",
      "125/125 [==============================] - 0s 941us/step - loss: 0.6318 - accuracy: 0.7153\n",
      "Epoch 110/150\n",
      "125/125 [==============================] - 0s 1ms/step - loss: 0.6896 - accuracy: 0.7063\n",
      "Epoch 111/150\n",
      "125/125 [==============================] - 0s 897us/step - loss: 0.6117 - accuracy: 0.7230\n",
      "Epoch 112/150\n",
      "125/125 [==============================] - 0s 895us/step - loss: 0.5583 - accuracy: 0.7350\n",
      "Epoch 113/150\n",
      "125/125 [==============================] - 0s 923us/step - loss: 0.7418 - accuracy: 0.6980\n",
      "Epoch 114/150\n",
      "125/125 [==============================] - 0s 900us/step - loss: 0.5682 - accuracy: 0.7287\n",
      "Epoch 115/150\n",
      "125/125 [==============================] - 0s 916us/step - loss: 0.5580 - accuracy: 0.7335\n",
      "Epoch 116/150\n",
      "125/125 [==============================] - 0s 920us/step - loss: 0.6840 - accuracy: 0.7023\n",
      "Epoch 117/150\n",
      "125/125 [==============================] - 0s 919us/step - loss: 0.7942 - accuracy: 0.6817\n",
      "Epoch 118/150\n",
      "125/125 [==============================] - 0s 989us/step - loss: 0.6058 - accuracy: 0.7262\n",
      "Epoch 119/150\n",
      "125/125 [==============================] - 0s 908us/step - loss: 0.6177 - accuracy: 0.7097\n",
      "Epoch 120/150\n",
      "125/125 [==============================] - 0s 896us/step - loss: 0.6072 - accuracy: 0.7303\n",
      "Epoch 121/150\n",
      "125/125 [==============================] - 0s 888us/step - loss: 0.6643 - accuracy: 0.7088\n",
      "Epoch 122/150\n",
      "125/125 [==============================] - 0s 954us/step - loss: 0.5958 - accuracy: 0.7255\n",
      "Epoch 123/150\n",
      "125/125 [==============================] - 0s 908us/step - loss: 0.6216 - accuracy: 0.7278\n",
      "Epoch 124/150\n",
      "125/125 [==============================] - 0s 941us/step - loss: 0.5644 - accuracy: 0.7345\n",
      "Epoch 125/150\n",
      "125/125 [==============================] - 0s 955us/step - loss: 0.6104 - accuracy: 0.7222\n",
      "Epoch 126/150\n",
      "125/125 [==============================] - 0s 952us/step - loss: 0.5615 - accuracy: 0.7412\n",
      "Epoch 127/150\n",
      "125/125 [==============================] - 0s 915us/step - loss: 0.6644 - accuracy: 0.7097\n",
      "Epoch 128/150\n",
      "125/125 [==============================] - 0s 934us/step - loss: 0.7451 - accuracy: 0.7013\n",
      "Epoch 129/150\n",
      "125/125 [==============================] - 0s 947us/step - loss: 0.5814 - accuracy: 0.7215\n",
      "Epoch 130/150\n",
      "125/125 [==============================] - 0s 920us/step - loss: 0.5107 - accuracy: 0.7565\n",
      "Epoch 131/150\n",
      "125/125 [==============================] - 0s 920us/step - loss: 0.6068 - accuracy: 0.7300\n",
      "Epoch 132/150\n",
      "125/125 [==============================] - 0s 931us/step - loss: 0.7129 - accuracy: 0.6957\n",
      "Epoch 133/150\n",
      "125/125 [==============================] - 0s 910us/step - loss: 0.6434 - accuracy: 0.7230\n",
      "Epoch 134/150\n",
      "125/125 [==============================] - 0s 945us/step - loss: 0.5575 - accuracy: 0.7398\n",
      "Epoch 135/150\n",
      "125/125 [==============================] - 0s 911us/step - loss: 0.5574 - accuracy: 0.7340\n",
      "Epoch 136/150\n",
      "125/125 [==============================] - 0s 935us/step - loss: 0.7216 - accuracy: 0.7013\n",
      "Epoch 137/150\n",
      "125/125 [==============================] - 0s 1ms/step - loss: 0.6560 - accuracy: 0.7120\n",
      "Epoch 138/150\n",
      "125/125 [==============================] - 0s 932us/step - loss: 0.5941 - accuracy: 0.7333\n",
      "Epoch 139/150\n",
      "125/125 [==============================] - 0s 946us/step - loss: 0.4890 - accuracy: 0.7667\n",
      "Epoch 140/150\n",
      "125/125 [==============================] - 0s 974us/step - loss: 0.5182 - accuracy: 0.7552\n",
      "Epoch 141/150\n",
      "125/125 [==============================] - 0s 933us/step - loss: 0.5589 - accuracy: 0.7400\n",
      "Epoch 142/150\n",
      "125/125 [==============================] - 0s 945us/step - loss: 0.7588 - accuracy: 0.7007\n",
      "Epoch 143/150\n",
      "125/125 [==============================] - 0s 952us/step - loss: 0.5740 - accuracy: 0.7375\n",
      "Epoch 144/150\n",
      "125/125 [==============================] - 0s 1ms/step - loss: 0.5195 - accuracy: 0.7525\n",
      "Epoch 145/150\n",
      "125/125 [==============================] - 0s 1ms/step - loss: 0.6878 - accuracy: 0.7032\n",
      "Epoch 146/150\n",
      "125/125 [==============================] - 0s 962us/step - loss: 0.5757 - accuracy: 0.7330\n",
      "Epoch 147/150\n",
      "125/125 [==============================] - 0s 953us/step - loss: 0.6358 - accuracy: 0.7283\n",
      "Epoch 148/150\n",
      "125/125 [==============================] - 0s 929us/step - loss: 0.5490 - accuracy: 0.7383\n",
      "Epoch 149/150\n",
      "125/125 [==============================] - 0s 962us/step - loss: 0.5129 - accuracy: 0.7560\n",
      "Epoch 150/150\n",
      "125/125 [==============================] - 0s 910us/step - loss: 0.6254 - accuracy: 0.7193\n"
     ]
    },
    {
     "data": {
      "text/plain": [
       "<keras.src.callbacks.History at 0x23d221a7a90>"
      ]
     },
     "execution_count": 49,
     "metadata": {},
     "output_type": "execute_result"
    }
   ],
   "source": [
    "# Define la arquitectura de la red neuronal\n",
    "model = tf.keras.models.Sequential([\n",
    "    tf.keras.layers.Dense(12, activation='relu'),\n",
    "    tf.keras.layers.Dense(260, activation='relu'),\n",
    "    tf.keras.layers.Dense(1, activation='sigmoid')\n",
    "])\n",
    "\n",
    "# Compila el modelo\n",
    "model.compile(optimizer='adam', loss='binary_crossentropy', metrics=['accuracy'])\n",
    "\n",
    "# Entrena el modelo\n",
    "model.fit(X_train, y_train, epochs=150)\n"
   ]
  },
  {
   "cell_type": "code",
   "execution_count": 50,
   "id": "2fe080c3",
   "metadata": {},
   "outputs": [
    {
     "name": "stdout",
     "output_type": "stream",
     "text": [
      "Precisión: 0.7789999842643738\n"
     ]
    }
   ],
   "source": [
    "# Evalua el modelo\n",
    "score = model.evaluate(X_test, y_test, verbose=0)\n",
    "print('Precisión:', score[1])\n"
   ]
  },
  {
   "cell_type": "code",
   "execution_count": 51,
   "id": "a2f05042",
   "metadata": {},
   "outputs": [
    {
     "name": "stdout",
     "output_type": "stream",
     "text": [
      "1/1 [==============================] - 0s 73ms/step\n",
      "[[0.94910264]]\n"
     ]
    }
   ],
   "source": [
    "# Prueba individual\n",
    "prediccion = model.predict( [[1,2.4,1.4,1.8,72,0,0]])\n",
    "print(prediccion)\n"
   ]
  }
 ],
 "metadata": {
  "kernelspec": {
   "display_name": "Python 3 (ipykernel)",
   "language": "python",
   "name": "python3"
  },
  "language_info": {
   "codemirror_mode": {
    "name": "ipython",
    "version": 3
   },
   "file_extension": ".py",
   "mimetype": "text/x-python",
   "name": "python",
   "nbconvert_exporter": "python",
   "pygments_lexer": "ipython3",
   "version": "3.11.6"
  }
 },
 "nbformat": 4,
 "nbformat_minor": 5
}
